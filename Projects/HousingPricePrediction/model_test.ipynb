{
 "cells": [
  {
   "cell_type": "code",
   "execution_count": 2,
   "metadata": {},
   "outputs": [
    {
     "name": "stderr",
     "output_type": "stream",
     "text": [
      "WARNING:absl:Compiled the loaded model, but the compiled metrics have yet to be built. `model.compile_metrics` will be empty until you train or evaluate the model.\n"
     ]
    },
    {
     "name": "stdout",
     "output_type": "stream",
     "text": [
      "\u001b[1m1/1\u001b[0m \u001b[32m━━━━━━━━━━━━━━━━━━━━\u001b[0m\u001b[37m\u001b[0m \u001b[1m0s\u001b[0m 47ms/step\n",
      "Predicted price: $397,152.59\n"
     ]
    }
   ],
   "source": [
    "import tensorflow as tf\n",
    "from tensorflow.keras.models import load_model\n",
    "import numpy as np\n",
    "import pandas as pd\n",
    "import matplotlib.pyplot as plt\n",
    "\n",
    "\n",
    "model = load_model('models/house_price_model.h5')\n",
    "\n",
    "import pandas as pd\n",
    "\n",
    "# Sample test input - Making sure it matches the training data format\n",
    "test_data = pd.DataFrame([{\n",
    "    'bedrooms': 3,\n",
    "    'bathrooms': 2.0,\n",
    "    'sqft_living': 2000,\n",
    "    'sqft_lot': 7500,\n",
    "    'floors': 1.0,\n",
    "    'waterfront': 0,\n",
    "    'view': 0,\n",
    "    'condition': 3,\n",
    "    'grade': 7,\n",
    "    'sqft_above': 1500,\n",
    "    'sqft_basement': 500,\n",
    "    'yr_built': 1980,\n",
    "    'yr_renovated': 0,\n",
    "    'lat': 47.65,\n",
    "    'long': -122.35,\n",
    "    'sqft_living15': 1800,\n",
    "    'sqft_lot15': 7000\n",
    "}])\n",
    "\n",
    "prediction = model.predict(test_data)\n",
    "print(f\"Predicted price: ${prediction[0][0]:,.2f}\")\n",
    "\n"
   ]
  }
 ],
 "metadata": {
  "kernelspec": {
   "display_name": ".venv",
   "language": "python",
   "name": "python3"
  },
  "language_info": {
   "codemirror_mode": {
    "name": "ipython",
    "version": 3
   },
   "file_extension": ".py",
   "mimetype": "text/x-python",
   "name": "python",
   "nbconvert_exporter": "python",
   "pygments_lexer": "ipython3",
   "version": "3.12.5"
  }
 },
 "nbformat": 4,
 "nbformat_minor": 2
}
